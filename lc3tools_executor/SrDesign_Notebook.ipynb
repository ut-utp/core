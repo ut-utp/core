{
 "cells": [
  {
   "cell_type": "code",
   "execution_count": 18,
   "metadata": {
    "collapsed": true
   },
   "outputs": [],
   "source": [
    "import subprocess as sp\n",
    "import os"
   ]
  },
  {
   "cell_type": "code",
   "execution_count": 24,
   "metadata": {
    "collapsed": true
   },
   "outputs": [],
   "source": [
    "def get_state(output_lines, registers):\n",
    "    lc3tools_registers = {}\n",
    "    lc3tools_memory = {}\n",
    "    #count = 0\n",
    "    for lines in output_lines:\n",
    "        if(\"pc: \" in lines):\n",
    "            split_lines = lines.split(\" \")\n",
    "            lc3tools_registers['pc'] = split_lines[1].strip(\"\\n\")\n",
    "            \n",
    "        if(\"psr: \" in lines):\n",
    "            split_lines = lines.split(\" \")\n",
    "            lc3tools_registers['psr'] = split_lines[1].strip(\"\\n\")\n",
    "        \n",
    "        if(\"r0: \" in lines or \"r4: \" in lines):\n",
    "            split_lines = lines.split(\" \")\n",
    "            for key in registers.keys():\n",
    "                for index, val in enumerate(split_lines):\n",
    "                    if(key in val):\n",
    "                        val = val[:-1]\n",
    "                        lc3tools_registers[val] = split_lines[index+1] # only get the final state of memory \n",
    "                  #  print(val + \" \" + split_lines[index+1])\n",
    "        if(lines[:2] == \"0x\"):\n",
    "            output_lines_list = lines.split(\": \")\n",
    "            lc3tools_memory[output_lines_list[0]] = output_lines_list[1].strip(\"\\n\").split(\" \")[0]\n",
    "           #lc3tools_memory.append(lines.strip(\"\\n\")) \n",
    "          #  count += 1\n",
    "        #for key, value in memory.items():\n",
    "         #   if (key in lines):\n",
    "          #      lc3tools_memory[key] = lines.split(\" \")[1]\n",
    "    return lc3tools_registers, lc3tools_memory"
   ]
  },
  {
   "cell_type": "code",
   "execution_count": 31,
   "metadata": {
    "collapsed": true
   },
   "outputs": [],
   "source": [
    "def lc3tools_testing(file_in, file_out):\n",
    "    \n",
    "    string = \"bash ./lc3tools/build/bin/lc3tools_executor.sh \" + file_in + \" \" + file_out\n",
    "    rc = os.system(string)\n",
    "    output_file = open(file_out, \"r\")\n",
    "#\n",
    "    \n",
    "#PC_points = []\n",
    "    output_lines = []\n",
    "\n",
    "    for lines2 in output_file:\n",
    "        output_lines.append(lines2.lower())\n",
    "        #if(\"PC:\" in lines2):\n",
    "         #   PC_points.append(lines2.strip(\"\\n\").split(\": \")[-1])\n",
    "\n",
    "    output_file.close()\n",
    "#output_file = open(\"/Users/davidrollins/SrDesign/lc3tools/build/bin/file.txt\", \"r\")\n",
    "\n",
    "#offset = myAtoi(PC_points[-1].split('x')[-1])\n",
    "#PC = int(PC_points[0], 16) - 2\n",
    "    registers = {\n",
    "        \"r0\": \"0x0\",\n",
    "        \"r1\": \"0x0\",\n",
    "        \"r2\": \"0x0\",\n",
    "        \"r3\": \"0x0\",\n",
    "        \"r4\": \"0x0\",\n",
    "        \"r5\": \"0x0\",\n",
    "        \"r6\": \"0x0\",\n",
    "        \"r7\": \"0x0\",\n",
    "        \"pc\": \"0x0\",\n",
    "        \"psr\": \"0x0\"\n",
    "    }\n",
    "    lc3tools_registers, lc3tools_memory = get_state(output_lines, registers)         \n",
    "    \n",
    "    \n",
    "    return lc3tools_registers, lc3tools_memory"
   ]
  },
  {
   "cell_type": "code",
   "execution_count": 30,
   "metadata": {},
   "outputs": [
    {
     "ename": "FileNotFoundError",
     "evalue": "[Errno 2] No such file or directory: './file_test.txt'",
     "output_type": "error",
     "traceback": [
      "\u001b[0;31m---------------------------------------------------------------------------\u001b[0m",
      "\u001b[0;31mFileNotFoundError\u001b[0m                         Traceback (most recent call last)",
      "\u001b[0;32m<ipython-input-30-af378f768d43>\u001b[0m in \u001b[0;36m<module>\u001b[0;34m()\u001b[0m\n\u001b[1;32m      1\u001b[0m \u001b[0minput_file\u001b[0m \u001b[0;34m=\u001b[0m  \u001b[0;34m\"./test.asm\"\u001b[0m \u001b[0;31m# specify number of instructions you want to run at top of this file\u001b[0m\u001b[0;34m\u001b[0m\u001b[0m\n\u001b[1;32m      2\u001b[0m \u001b[0moutput_file\u001b[0m \u001b[0;34m=\u001b[0m \u001b[0;34m\"./file_test.txt\"\u001b[0m\u001b[0;34m\u001b[0m\u001b[0m\n\u001b[0;32m----> 3\u001b[0;31m \u001b[0mlc3tools_registers\u001b[0m\u001b[0;34m,\u001b[0m \u001b[0mlc3tools_memory\u001b[0m \u001b[0;34m=\u001b[0m \u001b[0mlc3tools_testing\u001b[0m\u001b[0;34m(\u001b[0m\u001b[0minput_file\u001b[0m\u001b[0;34m,\u001b[0m \u001b[0moutput_file\u001b[0m\u001b[0;34m)\u001b[0m\u001b[0;34m\u001b[0m\u001b[0m\n\u001b[0m\u001b[1;32m      4\u001b[0m \u001b[0;34m\u001b[0m\u001b[0m\n\u001b[1;32m      5\u001b[0m \u001b[0;32mfor\u001b[0m \u001b[0mkey\u001b[0m\u001b[0;34m,\u001b[0m \u001b[0mvalue\u001b[0m \u001b[0;32min\u001b[0m \u001b[0mlc3tools_registers\u001b[0m\u001b[0;34m.\u001b[0m\u001b[0mitems\u001b[0m\u001b[0;34m(\u001b[0m\u001b[0;34m)\u001b[0m\u001b[0;34m:\u001b[0m\u001b[0;34m\u001b[0m\u001b[0m\n",
      "\u001b[0;32m<ipython-input-29-80d5fd0ef872>\u001b[0m in \u001b[0;36mlc3tools_testing\u001b[0;34m(file_in, file_out)\u001b[0m\n\u001b[1;32m      3\u001b[0m     \u001b[0mstring\u001b[0m \u001b[0;34m=\u001b[0m \u001b[0;34m\"bash ./lc3tools/build/bin/shell.sh \"\u001b[0m \u001b[0;34m+\u001b[0m \u001b[0mfile_in\u001b[0m \u001b[0;34m+\u001b[0m \u001b[0;34m\" \"\u001b[0m \u001b[0;34m+\u001b[0m \u001b[0mfile_out\u001b[0m\u001b[0;34m\u001b[0m\u001b[0m\n\u001b[1;32m      4\u001b[0m     \u001b[0mrc\u001b[0m \u001b[0;34m=\u001b[0m \u001b[0mos\u001b[0m\u001b[0;34m.\u001b[0m\u001b[0msystem\u001b[0m\u001b[0;34m(\u001b[0m\u001b[0mstring\u001b[0m\u001b[0;34m)\u001b[0m\u001b[0;34m\u001b[0m\u001b[0m\n\u001b[0;32m----> 5\u001b[0;31m     \u001b[0moutput_file\u001b[0m \u001b[0;34m=\u001b[0m \u001b[0mopen\u001b[0m\u001b[0;34m(\u001b[0m\u001b[0mfile_out\u001b[0m\u001b[0;34m,\u001b[0m \u001b[0;34m\"r\"\u001b[0m\u001b[0;34m)\u001b[0m\u001b[0;34m\u001b[0m\u001b[0m\n\u001b[0m\u001b[1;32m      6\u001b[0m \u001b[0;31m#\u001b[0m\u001b[0;34m\u001b[0m\u001b[0;34m\u001b[0m\u001b[0m\n\u001b[1;32m      7\u001b[0m \u001b[0;34m\u001b[0m\u001b[0m\n",
      "\u001b[0;31mFileNotFoundError\u001b[0m: [Errno 2] No such file or directory: './file_test.txt'"
     ]
    }
   ],
   "source": [
    "input_file =  \"./test.asm\" # specify number of instructions you want to run at top of this file\n",
    "output_file = \"./file_test.txt\"\n",
    "lc3tools_registers, lc3tools_memory = lc3tools_testing(input_file, output_file)\n",
    "\n",
    "for key, value in lc3tools_registers.items():\n",
    "    print(key + \" = \" + value)\n",
    "\n",
    "mem = '0x3011'\n",
    "print(\"Memory: \" + mem + \" = \" + lc3tools_memory['0x3011'])\n",
    "print()\n",
    "print()\n",
    "assembly_lines = open(input_file, \"r\")\n",
    "for lines in assembly_lines:\n",
    "    print(lines)\n",
    "assembly_lines.close()\n",
    "\n",
    "\n",
    "#print(lc3tools_registers)\n",
    "#print(lc3tools_memory)\n",
    "#mem = '0x3003'\n",
    "#print(mem + \" = \" + lc3tools_memory[mem])"
   ]
  },
  {
   "cell_type": "code",
   "execution_count": null,
   "metadata": {
    "collapsed": true
   },
   "outputs": [],
   "source": []
  },
  {
   "cell_type": "code",
   "execution_count": null,
   "metadata": {
    "collapsed": true
   },
   "outputs": [],
   "source": []
  },
  {
   "cell_type": "code",
   "execution_count": null,
   "metadata": {
    "collapsed": true
   },
   "outputs": [],
   "source": []
  }
 ],
 "metadata": {
  "kernelspec": {
   "display_name": "Python 3",
   "language": "python",
   "name": "python3"
  },
  "language_info": {
   "codemirror_mode": {
    "name": "ipython",
    "version": 3
   },
   "file_extension": ".py",
   "mimetype": "text/x-python",
   "name": "python",
   "nbconvert_exporter": "python",
   "pygments_lexer": "ipython3",
   "version": "3.6.3"
  }
 },
 "nbformat": 4,
 "nbformat_minor": 2
}
